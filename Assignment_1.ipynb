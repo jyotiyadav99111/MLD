{
  "nbformat": 4,
  "nbformat_minor": 0,
  "metadata": {
    "colab": {
      "name": "Assignment_1.ipynb",
      "provenance": [],
      "collapsed_sections": []
    },
    "kernelspec": {
      "name": "python3",
      "display_name": "Python 3"
    }
  },
  "cells": [
    {
      "cell_type": "markdown",
      "metadata": {
        "id": "l5oKkZZFzLrS",
        "colab_type": "text"
      },
      "source": [
        "### **Ques 1: Write a program which will find all such numbers which are divisible by 7 but are not a multiple of 5, between 2000 and 3200 (both included). The numbers obtained should be printed in a comma-separated sequence on a single line.**"
      ]
    },
    {
      "cell_type": "code",
      "metadata": {
        "id": "3AXU3gSyzEXZ",
        "colab_type": "code",
        "colab": {
          "base_uri": "https://localhost:8080/",
          "height": 88
        },
        "outputId": "3ffa8322-3e68-4d69-f7a7-6344dc0dab71"
      },
      "source": [
        "%%time\n",
        "def div_seven_not_five(n1 = 7, n2 = 5, lower_l = 2000, upper_l = 3200):\n",
        "  ans = ''\n",
        "  q_1 = int(lower_l/n1)\n",
        "  q_2 = int(upper_l/n1)\n",
        "  \n",
        "  diff = q_2-q_1\n",
        "  start = int(lower_l/n1)*7\n",
        "\n",
        "  for i in range(diff):\n",
        "    start += 7\n",
        "    if(start % n1 == 0 and start % n2 != 0):\n",
        "      ans = ans + ',' + str(start)\n",
        "\n",
        "  return ans[1:]\n",
        "\n",
        "print(div_seven_not_five())"
      ],
      "execution_count": 15,
      "outputs": [
        {
          "output_type": "stream",
          "text": [
            "2002,2009,2016,2023,2037,2044,2051,2058,2072,2079,2086,2093,2107,2114,2121,2128,2142,2149,2156,2163,2177,2184,2191,2198,2212,2219,2226,2233,2247,2254,2261,2268,2282,2289,2296,2303,2317,2324,2331,2338,2352,2359,2366,2373,2387,2394,2401,2408,2422,2429,2436,2443,2457,2464,2471,2478,2492,2499,2506,2513,2527,2534,2541,2548,2562,2569,2576,2583,2597,2604,2611,2618,2632,2639,2646,2653,2667,2674,2681,2688,2702,2709,2716,2723,2737,2744,2751,2758,2772,2779,2786,2793,2807,2814,2821,2828,2842,2849,2856,2863,2877,2884,2891,2898,2912,2919,2926,2933,2947,2954,2961,2968,2982,2989,2996,3003,3017,3024,3031,3038,3052,3059,3066,3073,3087,3094,3101,3108,3122,3129,3136,3143,3157,3164,3171,3178,3192,3199\n",
            "CPU times: user 0 ns, sys: 202 µs, total: 202 µs\n",
            "Wall time: 190 µs\n"
          ],
          "name": "stdout"
        }
      ]
    },
    {
      "cell_type": "markdown",
      "metadata": {
        "id": "Fhi1SUvD4Foq",
        "colab_type": "text"
      },
      "source": [
        "### **Ques 2: Write a Python program to accept the user's first and last name and then getting them printed in the the reverse order with a space between first name and last name.** "
      ]
    },
    {
      "cell_type": "code",
      "metadata": {
        "id": "OyNdobeA2pCM",
        "colab_type": "code",
        "colab": {
          "base_uri": "https://localhost:8080/",
          "height": 68
        },
        "outputId": "64d798db-6c80-4768-bec1-d92098760e68"
      },
      "source": [
        "first_name = str(input(\"Please Enter First Name: \" ))\n",
        "last_name = str(input(\"Please Enter Second Name: \"))\n",
        "print(last_name + \" \" + first_name)"
      ],
      "execution_count": 21,
      "outputs": [
        {
          "output_type": "stream",
          "text": [
            "Please Enter First Name: David\n",
            "Please Enter Second Name: Smith\n",
            "Smith David\n"
          ],
          "name": "stdout"
        }
      ]
    },
    {
      "cell_type": "markdown",
      "metadata": {
        "id": "77-0HBMx6wPQ",
        "colab_type": "text"
      },
      "source": [
        "### **Ques 3: Write a Python program to find the volume of a sphere with diameter 12 cm.** "
      ]
    },
    {
      "cell_type": "code",
      "metadata": {
        "id": "IXAzeSCs5jS8",
        "colab_type": "code",
        "colab": {
          "base_uri": "https://localhost:8080/",
          "height": 34
        },
        "outputId": "43c68eb4-3f1c-4175-fc66-8eca5625ab43"
      },
      "source": [
        "import math\n",
        "def volume(d = 6):\n",
        "  print(\"Volume of sphere with diameter %s cm is %s cm cube\"  % (d, ((4/3)*(math.pi)*((d/2)**3))))\n",
        "\n",
        "volume()"
      ],
      "execution_count": 36,
      "outputs": [
        {
          "output_type": "stream",
          "text": [
            "Volume of sphere with diameter 6 cm is 113.09733552923254 cm cube\n"
          ],
          "name": "stdout"
        }
      ]
    }
  ]
}